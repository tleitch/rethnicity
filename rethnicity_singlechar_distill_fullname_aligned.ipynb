{
  "cells": [
    {
      "cell_type": "markdown",
      "metadata": {
        "id": "view-in-github",
        "colab_type": "text"
      },
      "source": [
        "<a href=\"https://colab.research.google.com/github/tleitch/rethnicity/blob/main/rethnicity_singlechar_distill_fullname_aligned.ipynb\" target=\"_parent\"><img src=\"https://colab.research.google.com/assets/colab-badge.svg\" alt=\"Open In Colab\"/></a>"
      ]
    },
    {
      "cell_type": "markdown",
      "metadata": {
        "id": "5Zdu8rFoKxyf"
      },
      "source": [
        "# Note"
      ]
    },
    {
      "cell_type": "code",
      "execution_count": null,
      "metadata": {
        "id": "YTpDydcEKo18"
      },
      "outputs": [],
      "source": [
        "# model on fullnames but make sure that last names aligned at the same position\n",
        "# this is to overcome the fullname model only focus on firstname part"
      ]
    },
    {
      "cell_type": "markdown",
      "metadata": {
        "id": "3hgD1DqMK03m"
      },
      "source": [
        "# Preprocess the data"
      ]
    },
    {
      "cell_type": "code",
      "execution_count": null,
      "metadata": {
        "id": "taMAZqezgDun"
      },
      "outputs": [],
      "source": [
        "# change keras default GPU\n",
        "# os.environ[\"CUDA_VISIBLE_DEVICES\"]=\"0\" # first gpu\n",
        "# os.environ[\"CUDA_VISIBLE_DEVICES\"]=\"1\" # second gpu\n",
        "# os.environ[\"CUDA_VISIBLE_DEVICES\"] = \"-1\" # runs in cpu"
      ]
    },
    {
      "cell_type": "code",
      "execution_count": null,
      "metadata": {
        "id": "SPIPSqox9Wcb"
      },
      "outputs": [],
      "source": [
        "# pip install keras-tuner"
      ]
    },
    {
      "cell_type": "code",
      "source": [
        "gpu_info = !nvidia-smi\n",
        "gpu_info = '\\n'.join(gpu_info)\n",
        "if gpu_info.find('failed') >= 0:\n",
        "  print('Not connected to a GPU')\n",
        "else:\n",
        "  print(gpu_info)"
      ],
      "metadata": {
        "colab": {
          "base_uri": "https://localhost:8080/"
        },
        "id": "kfzOqkAFNUGv",
        "outputId": "7ef015be-735a-4903-9c9e-411c4a801a9e"
      },
      "execution_count": 2,
      "outputs": [
        {
          "output_type": "stream",
          "name": "stdout",
          "text": [
            "Tue Apr 19 18:50:11 2022       \n",
            "+-----------------------------------------------------------------------------+\n",
            "| NVIDIA-SMI 460.32.03    Driver Version: 460.32.03    CUDA Version: 11.2     |\n",
            "|-------------------------------+----------------------+----------------------+\n",
            "| GPU  Name        Persistence-M| Bus-Id        Disp.A | Volatile Uncorr. ECC |\n",
            "| Fan  Temp  Perf  Pwr:Usage/Cap|         Memory-Usage | GPU-Util  Compute M. |\n",
            "|                               |                      |               MIG M. |\n",
            "|===============================+======================+======================|\n",
            "|   0  Tesla P100-PCIE...  Off  | 00000000:00:04.0 Off |                    0 |\n",
            "| N/A   36C    P0    25W / 250W |      0MiB / 16280MiB |      0%      Default |\n",
            "|                               |                      |                  N/A |\n",
            "+-------------------------------+----------------------+----------------------+\n",
            "                                                                               \n",
            "+-----------------------------------------------------------------------------+\n",
            "| Processes:                                                                  |\n",
            "|  GPU   GI   CI        PID   Type   Process name                  GPU Memory |\n",
            "|        ID   ID                                                   Usage      |\n",
            "|=============================================================================|\n",
            "|  No running processes found                                                 |\n",
            "+-----------------------------------------------------------------------------+\n"
          ]
        }
      ]
    },
    {
      "cell_type": "code",
      "execution_count": 3,
      "metadata": {
        "colab": {
          "base_uri": "https://localhost:8080/"
        },
        "id": "24HWCEA89jk_",
        "outputId": "94d81de7-36b9-4fc9-d2e0-815c47cfbc95"
      },
      "outputs": [
        {
          "output_type": "stream",
          "name": "stdout",
          "text": [
            "Mounted at /content/drive\n"
          ]
        }
      ],
      "source": [
        "from google.colab import drive\n",
        "drive.mount('/content/drive')"
      ]
    },
    {
      "cell_type": "code",
      "execution_count": 4,
      "metadata": {
        "colab": {
          "base_uri": "https://localhost:8080/"
        },
        "id": "aSEGoTH49pb_",
        "outputId": "fa1e3f33-e488-4ff2-88da-a3ec0fb6d6a0"
      },
      "outputs": [
        {
          "output_type": "stream",
          "name": "stdout",
          "text": [
            "/content/drive/MyDrive\n"
          ]
        }
      ],
      "source": [
        "cd drive/MyDrive/"
      ]
    },
    {
      "cell_type": "code",
      "execution_count": 5,
      "metadata": {
        "colab": {
          "base_uri": "https://localhost:8080/"
        },
        "id": "ZOJP04Jh9vGh",
        "outputId": "44ed0356-6ebc-4a69-f324-fc8d9fce6730"
      },
      "outputs": [
        {
          "output_type": "stream",
          "name": "stdout",
          "text": [
            "2.8.0\n"
          ]
        }
      ],
      "source": [
        "import tensorflow.keras as keras\n",
        "import tensorflow as tf\n",
        "print(keras.__version__)\n",
        "#print(tf.__version__)\n",
        "import numpy as np\n",
        "import pandas as pd\n",
        "from sklearn.feature_extraction.text import CountVectorizer\n",
        "from sklearn.model_selection import train_test_split\n",
        "from sklearn.metrics import classification_report, confusion_matrix\n",
        "import string"
      ]
    },
    {
      "cell_type": "code",
      "execution_count": 6,
      "metadata": {
        "id": "dA4Rg9_e9yFd"
      },
      "outputs": [],
      "source": [
        "df = pd.read_csv(\"nmzpAgeSexFL.csv\")"
      ]
    },
    {
      "cell_type": "markdown",
      "source": [
        ""
      ],
      "metadata": {
        "id": "ivLRDy5UWnB2"
      }
    },
    {
      "cell_type": "code",
      "execution_count": 7,
      "metadata": {
        "id": "tDflDwWJ95vP"
      },
      "outputs": [],
      "source": [
        "df=df[df['race'].isin([1,2,3,4,5])]\n",
        "\n",
        "#dfW=df[df['race'].isin([5])]\n",
        "#dfB=df[df['race'].isin([3])]\n",
        "#dfH=df[df['race'].isin([4])]\n",
        "#dfA=df[df['race'].isin([2])]\n",
        "#dfAI=df[df['race'].isin([1])]"
      ]
    },
    {
      "cell_type": "code",
      "execution_count": 8,
      "metadata": {
        "id": "4KgkSMG3-HDZ"
      },
      "outputs": [],
      "source": [
        "# create ASCII dictionary\n",
        "chars = ['E'] + [chr(i) for i in range(97,123)] + [' ', 'U']\n",
        "id2char = {i:j for i,j in enumerate(chars)}\n",
        "char2id = {j:i for i,j in enumerate(chars)}"
      ]
    },
    {
      "cell_type": "code",
      "execution_count": 9,
      "metadata": {
        "id": "p4_Ezcz9_dS1"
      },
      "outputs": [],
      "source": [
        "# the characters here are all ASCII, good\n",
        "# for name in df['name_combine'].tolist():\n",
        "#     namechars = list(name)\n",
        "#     for nc in namechars:\n",
        "#         if nc not in char2id:\n",
        "#             print(nc)"
      ]
    },
    {
      "cell_type": "code",
      "execution_count": 9,
      "metadata": {
        "id": "5QnywdgANNCo"
      },
      "outputs": [],
      "source": [
        "def name2id(name, l = 10):\n",
        "    ids = [0] * l\n",
        "    for i, c in enumerate(name):\n",
        "        if i < l:\n",
        "            if c.isalpha():\n",
        "                ids[i] = char2id.get(c, char2id['U'])\n",
        "            elif c in string.punctuation:\n",
        "                ids[i] = char2id.get(c, char2id[' '])\n",
        "            else:\n",
        "                ids[i] = char2id.get(c, char2id['U'])\n",
        "    return ids"
      ]
    },
    {
      "cell_type": "code",
      "execution_count": null,
      "metadata": {
        "id": "GaFlIZS4QXTP"
      },
      "outputs": [],
      "source": [
        "# convert the output (y) from 2-5 to 0-3\n",
        "#y = [i-2 for i in y]"
      ]
    },
    {
      "cell_type": "markdown",
      "metadata": {
        "id": "Dj_Z8WulSnvZ"
      },
      "source": [
        "# Train the models"
      ]
    },
    {
      "cell_type": "code",
      "execution_count": 10,
      "metadata": {
        "colab": {
          "base_uri": "https://localhost:8080/"
        },
        "id": "EWw0_KaPMz0P",
        "outputId": "3d393082-6c57-4d91-8aa5-f916ee1681ca"
      },
      "outputs": [
        {
          "output_type": "stream",
          "name": "stdout",
          "text": [
            "2 classes\n"
          ]
        }
      ],
      "source": [
        "from tensorflow.keras.preprocessing import sequence\n",
        "from tensorflow.keras.models import Sequential\n",
        "from tensorflow.keras.layers import Dense, Embedding\n",
        "from tensorflow.keras.layers import LSTM, Bidirectional\n",
        "\n",
        "num_words = len(id2char)\n",
        "feature_len = 20 # cut texts after this number of words (among top max_features most common words)\n",
        "batch_size = 512\n",
        "\n",
        "\n",
        "num_classes = 2 # np.max(y_train) + 1\n",
        "print(num_classes, 'classes')\n"
      ]
    },
    {
      "cell_type": "code",
      "source": [
        "# set white to 0 and other to 1\n",
        "df['race2'] = np.where(df['race']==5, 0, 1)\n",
        "df.head()"
      ],
      "metadata": {
        "id": "NQH1a7HuFU6A",
        "colab": {
          "base_uri": "https://localhost:8080/",
          "height": 206
        },
        "outputId": "d4ff53f2-9d13-4b43-f408-b16be80eecd1"
      },
      "execution_count": 11,
      "outputs": [
        {
          "output_type": "execute_result",
          "data": {
            "text/plain": [
              "   Unnamed: 0 name_first    name_last   zip5 sex  race        age  race2\n",
              "0           1  Elizabeth       Walker  32643   F     5  59.049315      0\n",
              "1           2      Alton       Palmer  32643   M     5  77.854795      0\n",
              "2           3     Alicia     Mc Cleod  32607   F     3  54.402740      1\n",
              "3           4       Dale  Scarborough  32643   M     5  69.868493      0\n",
              "4           5     Daniel       Walker  32640   M     5  65.572603      0"
            ],
            "text/html": [
              "\n",
              "  <div id=\"df-704f47ef-3362-4db1-a972-c272d92f3a9a\">\n",
              "    <div class=\"colab-df-container\">\n",
              "      <div>\n",
              "<style scoped>\n",
              "    .dataframe tbody tr th:only-of-type {\n",
              "        vertical-align: middle;\n",
              "    }\n",
              "\n",
              "    .dataframe tbody tr th {\n",
              "        vertical-align: top;\n",
              "    }\n",
              "\n",
              "    .dataframe thead th {\n",
              "        text-align: right;\n",
              "    }\n",
              "</style>\n",
              "<table border=\"1\" class=\"dataframe\">\n",
              "  <thead>\n",
              "    <tr style=\"text-align: right;\">\n",
              "      <th></th>\n",
              "      <th>Unnamed: 0</th>\n",
              "      <th>name_first</th>\n",
              "      <th>name_last</th>\n",
              "      <th>zip5</th>\n",
              "      <th>sex</th>\n",
              "      <th>race</th>\n",
              "      <th>age</th>\n",
              "      <th>race2</th>\n",
              "    </tr>\n",
              "  </thead>\n",
              "  <tbody>\n",
              "    <tr>\n",
              "      <th>0</th>\n",
              "      <td>1</td>\n",
              "      <td>Elizabeth</td>\n",
              "      <td>Walker</td>\n",
              "      <td>32643</td>\n",
              "      <td>F</td>\n",
              "      <td>5</td>\n",
              "      <td>59.049315</td>\n",
              "      <td>0</td>\n",
              "    </tr>\n",
              "    <tr>\n",
              "      <th>1</th>\n",
              "      <td>2</td>\n",
              "      <td>Alton</td>\n",
              "      <td>Palmer</td>\n",
              "      <td>32643</td>\n",
              "      <td>M</td>\n",
              "      <td>5</td>\n",
              "      <td>77.854795</td>\n",
              "      <td>0</td>\n",
              "    </tr>\n",
              "    <tr>\n",
              "      <th>2</th>\n",
              "      <td>3</td>\n",
              "      <td>Alicia</td>\n",
              "      <td>Mc Cleod</td>\n",
              "      <td>32607</td>\n",
              "      <td>F</td>\n",
              "      <td>3</td>\n",
              "      <td>54.402740</td>\n",
              "      <td>1</td>\n",
              "    </tr>\n",
              "    <tr>\n",
              "      <th>3</th>\n",
              "      <td>4</td>\n",
              "      <td>Dale</td>\n",
              "      <td>Scarborough</td>\n",
              "      <td>32643</td>\n",
              "      <td>M</td>\n",
              "      <td>5</td>\n",
              "      <td>69.868493</td>\n",
              "      <td>0</td>\n",
              "    </tr>\n",
              "    <tr>\n",
              "      <th>4</th>\n",
              "      <td>5</td>\n",
              "      <td>Daniel</td>\n",
              "      <td>Walker</td>\n",
              "      <td>32640</td>\n",
              "      <td>M</td>\n",
              "      <td>5</td>\n",
              "      <td>65.572603</td>\n",
              "      <td>0</td>\n",
              "    </tr>\n",
              "  </tbody>\n",
              "</table>\n",
              "</div>\n",
              "      <button class=\"colab-df-convert\" onclick=\"convertToInteractive('df-704f47ef-3362-4db1-a972-c272d92f3a9a')\"\n",
              "              title=\"Convert this dataframe to an interactive table.\"\n",
              "              style=\"display:none;\">\n",
              "        \n",
              "  <svg xmlns=\"http://www.w3.org/2000/svg\" height=\"24px\"viewBox=\"0 0 24 24\"\n",
              "       width=\"24px\">\n",
              "    <path d=\"M0 0h24v24H0V0z\" fill=\"none\"/>\n",
              "    <path d=\"M18.56 5.44l.94 2.06.94-2.06 2.06-.94-2.06-.94-.94-2.06-.94 2.06-2.06.94zm-11 1L8.5 8.5l.94-2.06 2.06-.94-2.06-.94L8.5 2.5l-.94 2.06-2.06.94zm10 10l.94 2.06.94-2.06 2.06-.94-2.06-.94-.94-2.06-.94 2.06-2.06.94z\"/><path d=\"M17.41 7.96l-1.37-1.37c-.4-.4-.92-.59-1.43-.59-.52 0-1.04.2-1.43.59L10.3 9.45l-7.72 7.72c-.78.78-.78 2.05 0 2.83L4 21.41c.39.39.9.59 1.41.59.51 0 1.02-.2 1.41-.59l7.78-7.78 2.81-2.81c.8-.78.8-2.07 0-2.86zM5.41 20L4 18.59l7.72-7.72 1.47 1.35L5.41 20z\"/>\n",
              "  </svg>\n",
              "      </button>\n",
              "      \n",
              "  <style>\n",
              "    .colab-df-container {\n",
              "      display:flex;\n",
              "      flex-wrap:wrap;\n",
              "      gap: 12px;\n",
              "    }\n",
              "\n",
              "    .colab-df-convert {\n",
              "      background-color: #E8F0FE;\n",
              "      border: none;\n",
              "      border-radius: 50%;\n",
              "      cursor: pointer;\n",
              "      display: none;\n",
              "      fill: #1967D2;\n",
              "      height: 32px;\n",
              "      padding: 0 0 0 0;\n",
              "      width: 32px;\n",
              "    }\n",
              "\n",
              "    .colab-df-convert:hover {\n",
              "      background-color: #E2EBFA;\n",
              "      box-shadow: 0px 1px 2px rgba(60, 64, 67, 0.3), 0px 1px 3px 1px rgba(60, 64, 67, 0.15);\n",
              "      fill: #174EA6;\n",
              "    }\n",
              "\n",
              "    [theme=dark] .colab-df-convert {\n",
              "      background-color: #3B4455;\n",
              "      fill: #D2E3FC;\n",
              "    }\n",
              "\n",
              "    [theme=dark] .colab-df-convert:hover {\n",
              "      background-color: #434B5C;\n",
              "      box-shadow: 0px 1px 3px 1px rgba(0, 0, 0, 0.15);\n",
              "      filter: drop-shadow(0px 1px 2px rgba(0, 0, 0, 0.3));\n",
              "      fill: #FFFFFF;\n",
              "    }\n",
              "  </style>\n",
              "\n",
              "      <script>\n",
              "        const buttonEl =\n",
              "          document.querySelector('#df-704f47ef-3362-4db1-a972-c272d92f3a9a button.colab-df-convert');\n",
              "        buttonEl.style.display =\n",
              "          google.colab.kernel.accessAllowed ? 'block' : 'none';\n",
              "\n",
              "        async function convertToInteractive(key) {\n",
              "          const element = document.querySelector('#df-704f47ef-3362-4db1-a972-c272d92f3a9a');\n",
              "          const dataTable =\n",
              "            await google.colab.kernel.invokeFunction('convertToInteractive',\n",
              "                                                     [key], {});\n",
              "          if (!dataTable) return;\n",
              "\n",
              "          const docLinkHtml = 'Like what you see? Visit the ' +\n",
              "            '<a target=\"_blank\" href=https://colab.research.google.com/notebooks/data_table.ipynb>data table notebook</a>'\n",
              "            + ' to learn more about interactive tables.';\n",
              "          element.innerHTML = '';\n",
              "          dataTable['output_type'] = 'display_data';\n",
              "          await google.colab.output.renderOutput(dataTable, element);\n",
              "          const docLink = document.createElement('div');\n",
              "          docLink.innerHTML = docLinkHtml;\n",
              "          element.appendChild(docLink);\n",
              "        }\n",
              "      </script>\n",
              "    </div>\n",
              "  </div>\n",
              "  "
            ]
          },
          "metadata": {},
          "execution_count": 11
        }
      ]
    },
    {
      "cell_type": "code",
      "execution_count": 12,
      "metadata": {
        "id": "S8-cTDqCMl2T"
      },
      "outputs": [],
      "source": [
        "X = [name2id(fn.lower()) + name2id(ln.lower()) for fn, ln in zip(df['name_first'], df['name_last'])]\n",
        "y = [int(i) for i in df['race2'].tolist()]"
      ]
    },
    {
      "cell_type": "code",
      "execution_count": null,
      "metadata": {
        "colab": {
          "base_uri": "https://localhost:8080/"
        },
        "outputId": "56ae3eab-a74f-4fd3-a775-e9f7e9176d84",
        "id": "bi792UNsCIrO"
      },
      "outputs": [
        {
          "output_type": "stream",
          "name": "stdout",
          "text": [
            "y_train shape: (12988473, 2)\n",
            "X_train shape: (12988473, 20)\n",
            "Epoch 1/10\n",
            "  561/20295 [..............................] - ETA: 1:13:57 - loss: 0.5563 - accuracy: 0.7299"
          ]
        }
      ],
      "source": [
        "# Use full data set to train saved model\n",
        "\n",
        "\n",
        "X_train = sequence.pad_sequences(X, maxlen=feature_len)\n",
        "y_train = keras.utils.to_categorical(y, num_classes)\n",
        "print('y_train shape:', y_train.shape)\n",
        "print('X_train shape:', X_train.shape)\n",
        "\n",
        "model = Sequential()\n",
        "model.add(Embedding(num_words, 256, input_length=feature_len))\n",
        "# try out bi-directional LSTM\n",
        "model.add(Bidirectional(LSTM(512, return_sequences=True, dropout=0.2)))\n",
        "model.add(Bidirectional(LSTM(512, return_sequences=True, dropout=0.2)))\n",
        "model.add(Bidirectional(LSTM(512, return_sequences=True, dropout=0.2)))\n",
        "model.add(Bidirectional(LSTM(512, dropout=0.2)))\n",
        "model.add(Dense(num_classes, activation='sigmoid'))\n",
        "\n",
        "# choose between learning rates\n",
        "model.compile(optimizer=tf.keras.optimizers.Adam(learning_rate=1e-3),\n",
        "              loss='binary_crossentropy',\n",
        "              metrics=['accuracy'])\n",
        "\n",
        "callback = tf.keras.callbacks.EarlyStopping(monitor='loss', patience=3)\n",
        "\n",
        "# train model\n",
        "model.fit(X_train, y_train, batch_size=batch_size, epochs=10, validation_split=0.2, verbose=1, callbacks=[callback])\n",
        "#score, acc = model.evaluate(X_test, y_test, batch_size=batch_size, verbose=1)\n",
        "\n",
        "\n",
        "model.save('fullname_aligned_distillwhite.h5', include_optimizer=False)"
      ]
    },
    {
      "cell_type": "code",
      "source": [
        "# remove white and create new race code to use for running against black\n",
        "df=df[df['race']!=5]\n",
        "df['race2'] = np.where(df['race']==3, 0, 1)\n",
        "df.head()\n",
        "X = [name2id(fn.lower()) + name2id(ln.lower()) for fn, ln in zip(df['name_first'], df['name_last'])]\n",
        "y = [int(i) for i in df['race2'].tolist()]"
      ],
      "metadata": {
        "id": "KSVntGMnBTaE"
      },
      "execution_count": null,
      "outputs": []
    },
    {
      "cell_type": "code",
      "execution_count": null,
      "metadata": {
        "id": "VgQrbQybMGEZ"
      },
      "outputs": [],
      "source": [
        "# Use full data set to train saved model\n",
        "\n",
        "\n",
        "X_train = sequence.pad_sequences(X, maxlen=feature_len)\n",
        "y_train = keras.utils.to_categorical(y, num_classes)\n",
        "print('y_train shape:', y_train.shape)\n",
        "print('X_train shape:', X_train.shape)\n",
        "\n",
        "model = Sequential()\n",
        "model.add(Embedding(num_words, 256, input_length=feature_len))\n",
        "# try out bi-directional LSTM\n",
        "model.add(Bidirectional(LSTM(512, return_sequences=True, dropout=0.2)))\n",
        "model.add(Bidirectional(LSTM(512, return_sequences=True, dropout=0.2)))\n",
        "model.add(Bidirectional(LSTM(512, return_sequences=True, dropout=0.2)))\n",
        "model.add(Bidirectional(LSTM(512, dropout=0.2)))\n",
        "model.add(Dense(num_classes, activation='sigmoid'))\n",
        "\n",
        "# choose between learning rates\n",
        "model.compile(optimizer=tf.keras.optimizers.Adam(learning_rate=1e-3),\n",
        "              loss='binary_crossentropy',\n",
        "              metrics=['accuracy'])\n",
        "\n",
        "callback = tf.keras.callbacks.EarlyStopping(monitor='loss', patience=3)\n",
        "\n",
        "# train model\n",
        "model.fit(X_train, y_train, batch_size=batch_size, epochs=10, validation_split=0.2, verbose=1, callbacks=[callback])\n",
        "#score, acc = model.evaluate(X_test, y_test, batch_size=batch_size, verbose=1)\n",
        "\n",
        "\n",
        "model.save('fullname_aligned_distillblack.h5', include_optimizer=False)"
      ]
    },
    {
      "cell_type": "code",
      "source": [
        "# remove black and create new race code to use for running against hispanic\n",
        "df=df[df['race']!=3]\n",
        "df['race2'] = np.where(df['race']==4, 0, 1)\n",
        "df.head()\n",
        "X = [name2id(fn.lower()) + name2id(ln.lower()) for fn, ln in zip(df['name_first'], df['name_last'])]\n",
        "y = [int(i) for i in df['race2'].tolist()]"
      ],
      "metadata": {
        "id": "fO0z_s82BUBH"
      },
      "execution_count": null,
      "outputs": []
    },
    {
      "cell_type": "code",
      "execution_count": null,
      "metadata": {
        "id": "L2HidnbvIblt"
      },
      "outputs": [],
      "source": [
        "# Use full data set to train saved model\n",
        "\n",
        "\n",
        "X_train = sequence.pad_sequences(X, maxlen=feature_len)\n",
        "y_train = keras.utils.to_categorical(y, num_classes)\n",
        "print('y_train shape:', y_train.shape)\n",
        "print('X_train shape:', X_train.shape)\n",
        "\n",
        "model = Sequential()\n",
        "model.add(Embedding(num_words, 256, input_length=feature_len))\n",
        "# try out bi-directional LSTM\n",
        "model.add(Bidirectional(LSTM(512, return_sequences=True, dropout=0.2)))\n",
        "model.add(Bidirectional(LSTM(512, return_sequences=True, dropout=0.2)))\n",
        "model.add(Bidirectional(LSTM(512, return_sequences=True, dropout=0.2)))\n",
        "model.add(Bidirectional(LSTM(512, dropout=0.2)))\n",
        "model.add(Dense(num_classes, activation='sigmoid'))\n",
        "\n",
        "# choose between learning rates\n",
        "model.compile(optimizer=tf.keras.optimizers.Adam(learning_rate=1e-3),\n",
        "              loss='binary_crossentropy',\n",
        "              metrics=['accuracy'])\n",
        "\n",
        "callback = tf.keras.callbacks.EarlyStopping(monitor='loss', patience=3)\n",
        "\n",
        "# train model\n",
        "model.fit(X_train, y_train, batch_size=batch_size, epochs=10, validation_split=0.2, verbose=1, callbacks=[callback])\n",
        "#score, acc = model.evaluate(X_test, y_test, batch_size=batch_size, verbose=1)\n",
        "\n",
        "\n",
        "model.save('fullname_aligned_distillhispanic.h5', include_optimizer=False)"
      ]
    },
    {
      "cell_type": "code",
      "source": [
        "# remove hispanic and create new race code to use for running against asian\n",
        "df=df[df['race']!=4]\n",
        "df['race2'] = np.where(df['race']==2, 0, 1)\n",
        "df.head()\n",
        "X = [name2id(fn.lower()) + name2id(ln.lower()) for fn, ln in zip(df['name_first'], df['name_last'])]\n",
        "y = [int(i) for i in df['race2'].tolist()]"
      ],
      "metadata": {
        "id": "C5oZKL7tBUhT"
      },
      "execution_count": null,
      "outputs": []
    },
    {
      "cell_type": "code",
      "execution_count": null,
      "metadata": {
        "id": "DaU65nU-H7oq"
      },
      "outputs": [],
      "source": [
        "# Use full data set to train saved model\n",
        "\n",
        "\n",
        "X_train = sequence.pad_sequences(X, maxlen=feature_len)\n",
        "y_train = keras.utils.to_categorical(y, num_classes)\n",
        "print('y_train shape:', y_train.shape)\n",
        "print('X_train shape:', X_train.shape)\n",
        "\n",
        "model = Sequential()\n",
        "model.add(Embedding(num_words, 256, input_length=feature_len))\n",
        "# try out bi-directional LSTM\n",
        "model.add(Bidirectional(LSTM(512, return_sequences=True, dropout=0.2)))\n",
        "model.add(Bidirectional(LSTM(512, return_sequences=True, dropout=0.2)))\n",
        "model.add(Bidirectional(LSTM(512, return_sequences=True, dropout=0.2)))\n",
        "model.add(Bidirectional(LSTM(512, dropout=0.2)))\n",
        "model.add(Dense(num_classes, activation='sigmoid'))\n",
        "\n",
        "# choose between learning rates\n",
        "model.compile(optimizer=tf.keras.optimizers.Adam(learning_rate=1e-3),\n",
        "              loss='binary_crossentropy',\n",
        "              metrics=['accuracy'])\n",
        "\n",
        "callback = tf.keras.callbacks.EarlyStopping(monitor='loss', patience=3)\n",
        "\n",
        "# train model\n",
        "model.fit(X_train, y_train, batch_size=batch_size, epochs=10, validation_split=0.2, verbose=1, callbacks=[callback])\n",
        "#score, acc = model.evaluate(X_test, y_test, batch_size=batch_size, verbose=1)\n",
        "\n",
        "\n",
        "model.save('fullname_aligned_distillasian.h5', include_optimizer=False)"
      ]
    },
    {
      "cell_type": "markdown",
      "metadata": {
        "id": "1Sq0AoaL3oxZ"
      },
      "source": [
        "# Tune the Model"
      ]
    },
    {
      "cell_type": "code",
      "execution_count": 1,
      "metadata": {
        "id": "twHc9ikEQXTU",
        "colab": {
          "base_uri": "https://localhost:8080/",
          "height": 166
        },
        "outputId": "a439f864-0d5a-44de-e8f1-63cab4f01fe7"
      },
      "outputs": [
        {
          "output_type": "error",
          "ename": "NameError",
          "evalue": "ignored",
          "traceback": [
            "\u001b[0;31m---------------------------------------------------------------------------\u001b[0m",
            "\u001b[0;31mNameError\u001b[0m                                 Traceback (most recent call last)",
            "\u001b[0;32m<ipython-input-1-5f15418b3570>\u001b[0m in \u001b[0;36m<module>\u001b[0;34m()\u001b[0m\n\u001b[0;32m----> 1\u001b[0;31m \u001b[0mmodel\u001b[0m\u001b[0;34m.\u001b[0m\u001b[0msummary\u001b[0m\u001b[0;34m(\u001b[0m\u001b[0;34m)\u001b[0m\u001b[0;34m\u001b[0m\u001b[0;34m\u001b[0m\u001b[0m\n\u001b[0m",
            "\u001b[0;31mNameError\u001b[0m: name 'model' is not defined"
          ]
        }
      ],
      "source": [
        "model.summary()"
      ]
    },
    {
      "cell_type": "code",
      "execution_count": null,
      "metadata": {
        "id": "7Bqz-zDjQXTU"
      },
      "outputs": [],
      "source": [
        "model.get_config()"
      ]
    },
    {
      "cell_type": "code",
      "execution_count": null,
      "metadata": {
        "id": "wpWFwcbCQXTU"
      },
      "outputs": [],
      "source": [
        "model.optimizer"
      ]
    },
    {
      "cell_type": "code",
      "execution_count": null,
      "metadata": {
        "id": "2vrwONT8QXTU"
      },
      "outputs": [],
      "source": [
        "from keras import backend as K\n",
        "K.eval(model.optimizer.lr)"
      ]
    },
    {
      "cell_type": "code",
      "execution_count": null,
      "metadata": {
        "id": "lC2QHV06RZ2S"
      },
      "outputs": [],
      "source": [
        "# from google.colab import files\n",
        "# files.download('fullname_2_ethnicity_bilstm.h5') "
      ]
    }
  ],
  "metadata": {
    "accelerator": "GPU",
    "colab": {
      "name": "rethnicity_singlechar_distill_fullname_aligned.ipynb",
      "provenance": [],
      "machine_shape": "hm",
      "collapsed_sections": [],
      "background_execution": "on",
      "include_colab_link": true
    },
    "kernelspec": {
      "display_name": "Python 3",
      "language": "python",
      "name": "python3"
    },
    "language_info": {
      "codemirror_mode": {
        "name": "ipython",
        "version": 3
      },
      "file_extension": ".py",
      "mimetype": "text/x-python",
      "name": "python",
      "nbconvert_exporter": "python",
      "pygments_lexer": "ipython3",
      "version": "3.8.10"
    }
  },
  "nbformat": 4,
  "nbformat_minor": 0
}